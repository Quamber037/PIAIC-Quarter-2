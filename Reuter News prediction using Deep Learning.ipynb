{
 "cells": [
  {
   "cell_type": "code",
   "execution_count": 4,
   "metadata": {},
   "outputs": [],
   "source": [
    "import numpy as np\n",
    "import tensorflow as tf\n",
    "from tensorflow.keras.datasets import reuters\n",
    "from tensorflow.keras import optimizers,layers,models, utils\n",
    "import matplotlib.pyplot as plt\n",
    "%matplotlib inline"
   ]
  },
  {
   "cell_type": "code",
   "execution_count": 5,
   "metadata": {},
   "outputs": [
    {
     "name": "stdout",
     "output_type": "stream",
     "text": [
      "Downloading data from https://storage.googleapis.com/tensorflow/tf-keras-datasets/reuters.npz\n",
      "2113536/2110848 [==============================] - 4s 2us/step\n"
     ]
    }
   ],
   "source": [
    "(train_data, train_label),(test_data, test_label) = reuters.load_data(num_words=10000)"
   ]
  },
  {
   "cell_type": "code",
   "execution_count": 6,
   "metadata": {},
   "outputs": [
    {
     "name": "stdout",
     "output_type": "stream",
     "text": [
      "8982\n",
      "2246\n"
     ]
    }
   ],
   "source": [
    "print(len(train_data))\n",
    "print(len(test_data))"
   ]
  },
  {
   "cell_type": "code",
   "execution_count": 8,
   "metadata": {},
   "outputs": [
    {
     "name": "stdout",
     "output_type": "stream",
     "text": [
      "Downloading data from https://storage.googleapis.com/tensorflow/tf-keras-datasets/reuters_word_index.json\n",
      "557056/550378 [==============================] - 2s 3us/step\n"
     ]
    }
   ],
   "source": [
    "word_index = reuters.get_word_index()"
   ]
  },
  {
   "cell_type": "code",
   "execution_count": 11,
   "metadata": {},
   "outputs": [],
   "source": [
    "reverse_word_index = dict([(value, key) for (key, value) in word_index.items()])\n",
    "decoded_news = ' '.join(reverse_word_index.get(i-3,'.') for i in train_data[0])"
   ]
  },
  {
   "cell_type": "code",
   "execution_count": 13,
   "metadata": {},
   "outputs": [
    {
     "data": {
      "text/plain": [
       "'. . . said as a result of its december acquisition of space co it expects earnings per share in 1987 of 1 15 to 1 30 dlrs per share up from 70 cts in 1986 the company said pretax net should rise to nine to 10 mln dlrs from six mln dlrs in 1986 and rental operation revenues to 19 to 22 mln dlrs from 12 5 mln dlrs it said cash flow per share this year should be 2 50 to three dlrs reuter 3'"
      ]
     },
     "execution_count": 13,
     "metadata": {},
     "output_type": "execute_result"
    }
   ],
   "source": [
    "decoded_news"
   ]
  },
  {
   "cell_type": "code",
   "execution_count": 17,
   "metadata": {},
   "outputs": [],
   "source": [
    "def sequence_vectorize(sequences, dimension=10000):\n",
    "    result = np.zeros((len(sequences), dimension))\n",
    "    for i, sequence in enumerate(sequences):\n",
    "        result[i,sequence] = 1.\n",
    "    return result            "
   ]
  },
  {
   "cell_type": "code",
   "execution_count": 44,
   "metadata": {},
   "outputs": [],
   "source": [
    "x_train = sequence_vectorize(train_data)\n",
    "x_test = sequence_vectorize(test_data)"
   ]
  },
  {
   "cell_type": "code",
   "execution_count": 45,
   "metadata": {},
   "outputs": [
    {
     "name": "stdout",
     "output_type": "stream",
     "text": [
      "[ 3  4  3 ... 25  3 25]\n"
     ]
    }
   ],
   "source": [
    "print(train_label) #this is multilabel, so we need to apply one-hot encoding"
   ]
  },
  {
   "cell_type": "code",
   "execution_count": 46,
   "metadata": {},
   "outputs": [],
   "source": [
    "one_hot_train_label = utils.to_categorical(train_label)\n",
    "one_hot_test_label = utils.to_categorical(test_label)"
   ]
  },
  {
   "cell_type": "code",
   "execution_count": 47,
   "metadata": {},
   "outputs": [],
   "source": [
    "x_val = x_train[:1000]\n",
    "partial_x_train = x_train[1000:]\n",
    "y_val = one_hot_train_label[:1000]\n",
    "parital_y_train = one_hot_train_label[1000:]"
   ]
  },
  {
   "cell_type": "code",
   "execution_count": 48,
   "metadata": {},
   "outputs": [],
   "source": [
    "model = models.Sequential()\n",
    "model.add(layers.Dense(64, activation='relu',input_shape=(10000,)))\n",
    "model.add(layers.Dense(64, activation='relu'))\n",
    "model.add(layers.Dense(46, activation='softmax'))"
   ]
  },
  {
   "cell_type": "code",
   "execution_count": 49,
   "metadata": {},
   "outputs": [
    {
     "name": "stdout",
     "output_type": "stream",
     "text": [
      "Train on 7982 samples, validate on 1000 samples\n",
      "Epoch 1/20\n",
      "7982/7982 [==============================] - 4s 454us/sample - loss: 2.8923 - acc: 0.4375 - val_loss: 1.9212 - val_acc: 0.6120\n",
      "Epoch 2/20\n",
      "7982/7982 [==============================] - 2s 233us/sample - loss: 1.5640 - acc: 0.6903 - val_loss: 1.3722 - val_acc: 0.7090\n",
      "Epoch 3/20\n",
      "7982/7982 [==============================] - 2s 222us/sample - loss: 1.1348 - acc: 0.7616 - val_loss: 1.1620 - val_acc: 0.7540\n",
      "Epoch 4/20\n",
      "7982/7982 [==============================] - 2s 228us/sample - loss: 0.8895 - acc: 0.8156 - val_loss: 1.0499 - val_acc: 0.7890\n",
      "Epoch 5/20\n",
      "7982/7982 [==============================] - 2s 220us/sample - loss: 0.7096 - acc: 0.8553 - val_loss: 0.9715 - val_acc: 0.8050\n",
      "Epoch 6/20\n",
      "7982/7982 [==============================] - 2s 224us/sample - loss: 0.5678 - acc: 0.8816 - val_loss: 0.9375 - val_acc: 0.8130\n",
      "Epoch 7/20\n",
      "7982/7982 [==============================] - 2s 221us/sample - loss: 0.4595 - acc: 0.9074 - val_loss: 0.9031 - val_acc: 0.8190\n",
      "Epoch 8/20\n",
      "7982/7982 [==============================] - 2s 232us/sample - loss: 0.3760 - acc: 0.9235 - val_loss: 0.9042 - val_acc: 0.8170\n",
      "Epoch 9/20\n",
      "7982/7982 [==============================] - 2s 240us/sample - loss: 0.3071 - acc: 0.9339 - val_loss: 0.9075 - val_acc: 0.8120\n",
      "Epoch 10/20\n",
      "7982/7982 [==============================] - 2s 224us/sample - loss: 0.2632 - acc: 0.9409 - val_loss: 0.9011 - val_acc: 0.8190\n",
      "Epoch 11/20\n",
      "7982/7982 [==============================] - 2s 230us/sample - loss: 0.2248 - acc: 0.9455 - val_loss: 0.9077 - val_acc: 0.8180\n",
      "Epoch 12/20\n",
      "7982/7982 [==============================] - 2s 229us/sample - loss: 0.1928 - acc: 0.9494 - val_loss: 0.9495 - val_acc: 0.8190\n",
      "Epoch 13/20\n",
      "7982/7982 [==============================] - 2s 235us/sample - loss: 0.1764 - acc: 0.9511 - val_loss: 0.9640 - val_acc: 0.8170\n",
      "Epoch 14/20\n",
      "7982/7982 [==============================] - 2s 234us/sample - loss: 0.1587 - acc: 0.9543 - val_loss: 0.9934 - val_acc: 0.8020\n",
      "Epoch 15/20\n",
      "7982/7982 [==============================] - 2s 227us/sample - loss: 0.1434 - acc: 0.9549 - val_loss: 0.9668 - val_acc: 0.8180\n",
      "Epoch 16/20\n",
      "7982/7982 [==============================] - 2s 238us/sample - loss: 0.1341 - acc: 0.9573 - val_loss: 1.0637 - val_acc: 0.7900\n",
      "Epoch 17/20\n",
      "7982/7982 [==============================] - 2s 229us/sample - loss: 0.1310 - acc: 0.9563 - val_loss: 1.0860 - val_acc: 0.8020\n",
      "Epoch 18/20\n",
      "7982/7982 [==============================] - 2s 223us/sample - loss: 0.1262 - acc: 0.9567 - val_loss: 1.0375 - val_acc: 0.8130\n",
      "Epoch 19/20\n",
      "7982/7982 [==============================] - 2s 229us/sample - loss: 0.1148 - acc: 0.9579 - val_loss: 1.0200 - val_acc: 0.8110\n",
      "Epoch 20/20\n",
      "7982/7982 [==============================] - 2s 231us/sample - loss: 0.1139 - acc: 0.9585 - val_loss: 1.0995 - val_acc: 0.8050\n"
     ]
    }
   ],
   "source": [
    "model.compile(optimizer='rmsprop',loss='categorical_crossentropy',metrics=['acc'])\n",
    "history = model.fit(partial_x_train,parital_y_train,epochs=20,batch_size=512,validation_data=(x_val,y_val))"
   ]
  },
  {
   "cell_type": "code",
   "execution_count": 50,
   "metadata": {},
   "outputs": [],
   "source": [
    "dict_history = history.history"
   ]
  },
  {
   "cell_type": "code",
   "execution_count": 51,
   "metadata": {},
   "outputs": [
    {
     "data": {
      "image/png": "[encoded data removed]",
      "text/plain": [
       "<Figure size 432x288 with 1 Axes>"
      ]
     },
     "metadata": {
      "needs_background": "light"
     },
     "output_type": "display_data"
    },
    {
     "data": {
      "image/png": "[encoded data removed]",
      "text/plain": [
       "<Figure size 432x288 with 1 Axes>"
      ]
     },
     "metadata": {
      "needs_background": "light"
     },
     "output_type": "display_data"
    }
   ],
   "source": [
    "training_loss = dict_history['loss']\n",
    "val_loss = dict_history['val_loss']\n",
    "epochs = range(1,len(val_loss)+1)\n",
    "plt.plot(epochs,training_loss,'bo',label = 'Training loss')\n",
    "plt.plot(epochs,val_loss,'b',label = 'Validation loss')\n",
    "plt.xlabel('Epochs')\n",
    "plt.ylabel('loss')\n",
    "plt.title('Training and Validation loss')\n",
    "plt.legend()\n",
    "plt.show()\n",
    "plt.clf()\n",
    "training_acc = dict_history['acc']\n",
    "val_acc = dict_history['val_acc']\n",
    "epochs = range(1,len(val_acc)+1)\n",
    "plt.plot(epochs,training_acc,'bo',label = 'Training accuarcy')\n",
    "plt.plot(epochs,val_acc,'b',label = 'Validation accuracy')\n",
    "plt.xlabel('Epochs')\n",
    "plt.ylabel('loss')\n",
    "plt.title('Training and Validation Accuracy')\n",
    "plt.legend()\n",
    "plt.show()"
   ]
  },
  {
   "cell_type": "code",
   "execution_count": 52,
   "metadata": {},
   "outputs": [],
   "source": [
    "predictions = model.predict(x_test)"
   ]
  },
  {
   "cell_type": "code",
   "execution_count": 53,
   "metadata": {},
   "outputs": [
    {
     "data": {
      "text/plain": [
       "(2246, 46)"
      ]
     },
     "execution_count": 53,
     "metadata": {},
     "output_type": "execute_result"
    }
   ],
   "source": [
    "predictions.shape"
   ]
  },
  {
   "cell_type": "code",
   "execution_count": 57,
   "metadata": {},
   "outputs": [
    {
     "data": {
      "text/plain": [
       "0.9999999"
      ]
     },
     "execution_count": 57,
     "metadata": {},
     "output_type": "execute_result"
    }
   ],
   "source": [
    "predictions[0].sum()"
   ]
  },
  {
   "cell_type": "code",
   "execution_count": 60,
   "metadata": {},
   "outputs": [
    {
     "data": {
      "text/plain": [
       "3"
      ]
     },
     "execution_count": 60,
     "metadata": {},
     "output_type": "execute_result"
    }
   ],
   "source": [
    "predictions[0].argmax()"
   ]
  }
 ],
 "metadata": {
  "kernelspec": {
   "display_name": "Python 3",
   "language": "python",
   "name": "python3"
  },
  "language_info": {
   "codemirror_mode": {
    "name": "ipython",
    "version": 3
   },
   "file_extension": ".py",
   "mimetype": "text/x-python",
   "name": "python",
   "nbconvert_exporter": "python",
   "pygments_lexer": "ipython3",
   "version": "3.7.3"
  }
 },
 "nbformat": 4,
 "nbformat_minor": 2
}
